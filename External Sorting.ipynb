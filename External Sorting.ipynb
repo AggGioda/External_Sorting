{
 "cells": [
  {
   "cell_type": "code",
   "execution_count": null,
   "id": "a175e9ef",
   "metadata": {},
   "outputs": [],
   "source": [
    "import pandas as pd\n",
    "import time\n",
    "\n",
    "# Input and output file paths\n",
    "input_csv_file = r\"C:\\Users\\aggelos_gioda\\Desktop\\wfs_behaviors_and_records.csv\"\n",
    "output_csv_file = r\"C:\\Users\\aggelos_gioda\\Desktop\\sorted_data.csv\"\n",
    "\n",
    "# Chunk size for external sorting (adjust based on available memory)\n",
    "chunk_size = 10000\n",
    "\n",
    "file_encoding = 'ANSI' \n",
    "\n",
    "# Start the timer\n",
    "start_time = time.time()\n",
    "\n",
    "# Initialize an empty list to hold data chunks\n",
    "chunks = []\n",
    "\n",
    "# Read the CSV file in chunks and sort each chunk\n",
    "for chunk in pd.read_csv(input_csv_file, encoding=file_encoding, chunksize=chunk_size):\n",
    "    sorted_chunk = chunk.sort_values(by='sub_lname')\n",
    "    chunks.append(sorted_chunk)\n",
    "\n",
    "# Concatenate the sorted chunks into a single DataFrame\n",
    "sorted_data = pd.concat(chunks, ignore_index=True)\n",
    "\n",
    "# Write the sorted data to a new CSV file\n",
    "sorted_data.to_csv(output_csv_file, index=False)\n",
    "\n",
    "# Calculate the execution time\n",
    "end_time = time.time()\n",
    "execution_time = end_time - start_time\n",
    "\n",
    "print(f\"Data sorted and saved to {output_csv_file}\")\n",
    "print(f\"Execution time: {execution_time:.2f} seconds\")\n"
   ]
  }
 ],
 "metadata": {
  "kernelspec": {
   "display_name": "Python 3 (ipykernel)",
   "language": "python",
   "name": "python3"
  },
  "language_info": {
   "codemirror_mode": {
    "name": "ipython",
    "version": 3
   },
   "file_extension": ".py",
   "mimetype": "text/x-python",
   "name": "python",
   "nbconvert_exporter": "python",
   "pygments_lexer": "ipython3",
   "version": "3.9.13"
  }
 },
 "nbformat": 4,
 "nbformat_minor": 5
}
